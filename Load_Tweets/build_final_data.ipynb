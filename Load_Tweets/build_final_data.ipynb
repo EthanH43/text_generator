{
 "cells": [
  {
   "cell_type": "markdown",
   "metadata": {},
   "source": [
    "This Cell is Used to make the data that will be passed to the website."
   ]
  },
  {
   "cell_type": "code",
   "execution_count": 2,
   "metadata": {},
   "outputs": [],
   "source": [
    "import pandas as pd\n",
    "import numpy as np\n",
    "import tensorflow as tf\n",
    "import random\n",
    "import sys\n",
    "import pickle\n",
    "import csv\n",
    "import os\n",
    "import matplotlib.pyplot as plt\n",
    "import re"
   ]
  },
  {
   "cell_type": "code",
   "execution_count": 12,
   "metadata": {},
   "outputs": [
    {
     "data": {
      "text/html": [
       "<div>\n",
       "<style scoped>\n",
       "    .dataframe tbody tr th:only-of-type {\n",
       "        vertical-align: middle;\n",
       "    }\n",
       "\n",
       "    .dataframe tbody tr th {\n",
       "        vertical-align: top;\n",
       "    }\n",
       "\n",
       "    .dataframe thead th {\n",
       "        text-align: right;\n",
       "    }\n",
       "</style>\n",
       "<table border=\"1\" class=\"dataframe\">\n",
       "  <thead>\n",
       "    <tr style=\"text-align: right;\">\n",
       "      <th></th>\n",
       "      <th>Unnamed: 0</th>\n",
       "      <th>Unnamed: 0.1</th>\n",
       "      <th>Unnamed: 0.1.1</th>\n",
       "      <th>Unnamed: 0.1.1.1</th>\n",
       "      <th>text</th>\n",
       "      <th>created_at</th>\n",
       "    </tr>\n",
       "  </thead>\n",
       "  <tbody>\n",
       "    <tr>\n",
       "      <th>0</th>\n",
       "      <td>0</td>\n",
       "      <td>0</td>\n",
       "      <td>0</td>\n",
       "      <td>0</td>\n",
       "      <td>No Collusion - No Obstruction! https://t.co/cb...</td>\n",
       "      <td>2019-04-16 18:59:17</td>\n",
       "    </tr>\n",
       "    <tr>\n",
       "      <th>1</th>\n",
       "      <td>1</td>\n",
       "      <td>1</td>\n",
       "      <td>1</td>\n",
       "      <td>1</td>\n",
       "      <td>I will be in Green Bay Wisconsin on Saturday A...</td>\n",
       "      <td>2019-04-16 18:01:11</td>\n",
       "    </tr>\n",
       "    <tr>\n",
       "      <th>2</th>\n",
       "      <td>2</td>\n",
       "      <td>2</td>\n",
       "      <td>2</td>\n",
       "      <td>2</td>\n",
       "      <td>So weird to watch Crazy Bernie on @FoxNews. No...</td>\n",
       "      <td>2019-04-16 14:11:46</td>\n",
       "    </tr>\n",
       "    <tr>\n",
       "      <th>3</th>\n",
       "      <td>3</td>\n",
       "      <td>3</td>\n",
       "      <td>3</td>\n",
       "      <td>3</td>\n",
       "      <td>No Collusion - No Obstruction!</td>\n",
       "      <td>2019-04-16 13:34:55</td>\n",
       "    </tr>\n",
       "    <tr>\n",
       "      <th>4</th>\n",
       "      <td>4</td>\n",
       "      <td>4</td>\n",
       "      <td>4</td>\n",
       "      <td>4</td>\n",
       "      <td>A must read Andy McCarthy’s column today “Dirt...</td>\n",
       "      <td>2019-04-16 13:02:23</td>\n",
       "    </tr>\n",
       "  </tbody>\n",
       "</table>\n",
       "</div>"
      ],
      "text/plain": [
       "   Unnamed: 0  Unnamed: 0.1  Unnamed: 0.1.1  Unnamed: 0.1.1.1  \\\n",
       "0           0             0               0                 0   \n",
       "1           1             1               1                 1   \n",
       "2           2             2               2                 2   \n",
       "3           3             3               3                 3   \n",
       "4           4             4               4                 4   \n",
       "\n",
       "                                                text           created_at  \n",
       "0  No Collusion - No Obstruction! https://t.co/cb...  2019-04-16 18:59:17  \n",
       "1  I will be in Green Bay Wisconsin on Saturday A...  2019-04-16 18:01:11  \n",
       "2  So weird to watch Crazy Bernie on @FoxNews. No...  2019-04-16 14:11:46  \n",
       "3                     No Collusion - No Obstruction!  2019-04-16 13:34:55  \n",
       "4  A must read Andy McCarthy’s column today “Dirt...  2019-04-16 13:02:23  "
      ]
     },
     "execution_count": 12,
     "metadata": {},
     "output_type": "execute_result"
    }
   ],
   "source": [
    "data = pd.read_csv(\"./data/Full Trump Archive.csv\")\n",
    "data.head()"
   ]
  },
  {
   "cell_type": "code",
   "execution_count": 13,
   "metadata": {},
   "outputs": [],
   "source": [
    "\n",
    "with open('./data/samples/run1/fake_tweets.txt') as f:\n",
    "    text = f.read()\n",
    "    fake_data = text.split('\\n')\n",
    "\n",
    "real_data = list(data['text'])"
   ]
  },
  {
   "cell_type": "code",
   "execution_count": 15,
   "metadata": {},
   "outputs": [
    {
     "data": {
      "text/plain": [
       "['======== SAMPLE 1 ========',\n",
       " ' on@ericblacksmith @MSNBC: .@IngrahamAngle: .@realDonaldTrump #TrumpTrain https://t.co/VZ6wfX0TQEjWQF',\n",
       " 'President Donald J. Trump has chosen to run on my behalf',\n",
       " 'The Fake News CNN has gone crazy and gone totally crazy. These CNN sources are biased and that will only get worse with more reporting!',\n",
       " 'Just got out that the Fake News is not factoring out how biased these days on @FoxNews. Very dishonest people! @FoxNews',\n",
       " \"While I've been away from a very good debate night already\",\n",
       " 'MAKE AMERICA GREAT AGAIN',\n",
       " 'https://t.co/mE7D9F6oXv',\n",
       " \"RT @IvankaTrump: .@realDonaldTrump: As @EricTrump: @realDonaldTrump @realDonaldTrump  “Duffy's been a great surprise. Thank you! #Dawn’s 2017 @TeamTrump’s #SuperTuesday!  @TeamTrump \",\n",
       " '']"
      ]
     },
     "execution_count": 15,
     "metadata": {},
     "output_type": "execute_result"
    }
   ],
   "source": [
    "fake_data[:10]"
   ]
  },
  {
   "cell_type": "code",
   "execution_count": 30,
   "metadata": {},
   "outputs": [
    {
     "data": {
      "text/plain": [
       "[' on@ericblacksmith @MSNBC: .@IngrahamAngle: .@realDonaldTrump #TrumpTrain https://t.co/VZ6wfX0TQEjWQF',\n",
       " 'President Donald J. Trump has chosen to run on my behalf',\n",
       " 'The Fake News CNN has gone crazy and gone totally crazy. These CNN sources are biased and that will only get worse with more reporting!',\n",
       " 'Just got out that the Fake News is not factoring out how biased these days on @FoxNews. Very dishonest people! @FoxNews',\n",
       " \"While I've been away from a very good debate night already\",\n",
       " 'MAKE AMERICA GREAT AGAIN',\n",
       " \"RT @IvankaTrump: .@realDonaldTrump: As @EricTrump: @realDonaldTrump @realDonaldTrump  “Duffy's been a great surprise. Thank you! #Dawn’s 2017 @TeamTrump’s #SuperTuesday!  @TeamTrump \",\n",
       " '',\n",
       " 'Video: https://t.co/4PV9yA',\n",
       " 'The debate was tough to debate. We will have a winner tonight',\n",
       " 'Our great country is working hard to make America Great Again. #DawnNews conference https://t.co/wO2r0dFwIYvDQ',\n",
       " 'Thank you to @EricTrump… https://t.co/QM5vK4UV8Mz',\n",
       " 'RT @IvankaTrump: #DawnNews conference https://t.co/QW2gT2Bv9',\n",
       " \".@TeamTrump: “Duffy's been a great surprise. Congratulations! https://t.co/Y6S9B4yYc0Wc0iX\",\n",
       " 'This is my final update of @realDonaldTrump. Thank you. #SuperTuesday ',\n",
       " '#SuperTuesday ',\n",
       " 'RT @EricTrump: \"\"@IvankaTrump: .@realDonaldTrump you\\'re right @HillaryClinton!',\n",
       " 'RT @HillaryClinton: @HillaryClinton @HillaryClinton:  @realDonaldTrump @HillaryClinton: @HillaryClinton @HillaryClinton @HillaryClinton@HillaryClinton @HillaryClinton: .@HillaryClinton @HillaryClinton = HillaryClintonClinton @HillaryClinton @HillaryClinton @HillaryClinton ',\n",
       " 'MAKE AMERICA GREAT AGAIN',\n",
       " '#SuperTuesday ',\n",
       " 'RT @DRUDGE_R: .@HillaryClintonClinton: \"\"TrumpTrain: https://t.co/U3Vfjf7DwOfZ',\n",
       " 'RT @Duffy_Reid: .@HillaryClinton_HillaryClinton:  @HillaryClinton_ for @HillaryClinton_Trump #HillaryClintonForHillary_Trump ',\n",
       " 'I agree',\n",
       " 'It was my great honor to join you',\n",
       " 'Democrats did their thing',\n",
       " 'Today in Iowa',\n",
       " 'I will never be surprised to hear that the “Democrats’ will not let President Obama’s approval ratings drop below a level if they win in November',\n",
       " 'Crooked Clinton has proven it to be impossible for me to win. Bad judgment',\n",
       " 'The Fake news network just gave me a phony answer',\n",
       " \" Tough. She'll End Debates https://t.co/jxbFYzmM\",\n",
       " 'I would like to express my warmest regards and condolences to the families and loved ones of the terrible Humboldt Team tragedy. May God be with them all!',\n",
       " \"My team of those involved in today's horrible boat traffic collision was right at it’s during the second round of @ScavinoConteITOPE. Time to get tough and protect America!\",\n",
       " 'So many records being set. We are bringing back America faster than all of our leaders acted to fix it!',\n",
       " 'Funny how some of the top business leaders think that Crooked Hillary just can’t close the deal with ISIS. For all of you they have to say',\n",
       " 'It’s not about peace',\n",
       " 'Join me today w/ President Moon of South Korea',\n",
       " 'Funny how the Democrats',\n",
       " 'While I lead by some of the leaders I talk about peace',\n",
       " 'My team of the Republican Party of Nevada have been very unhelpful',\n",
       " 'Today we honor Dr. Martin Luther King',\n",
       " \"When Dr. King's dream is your dream. It is the American Dream\",\n",
       " 'It is incredible that finally',\n",
       " '.@LoneStarMichael is a wonderful person who have so taken a life',\n",
       " 'The Washington Post from the beginning. Was just briefed on the terrorist attack',\n",
       " 'Funny how the Democrat Governor',\n",
       " 'My statement as heading Chief of Staff was',\n",
       " 'THANK YOU SPIRTH CAROLINA! #SOTU2017 https://t.co/9jAk0FWqV',\n",
       " \"RT @GStephanopoulos: What’s @realDonaldTrump's strategy to secure @RealDonaldTrump?  Get it here https://t.co/sUTwAgbPc7y\",\n",
       " '...big unnecessary regulation cuts made it all all possible” (among many other things). “President Trump reversed the policies”',\n",
       " 'So many people have asked how to all of my lawyers felt I must say this',\n",
       " 'Funny that while I lead out of the meeting in Cleveland',\n",
       " 'I',\n",
       " \"It's the - people-TIME. \",\n",
       " 'Meet ',\n",
       " '#NeverForget',\n",
       " '#NeverForget https://t.co/rfnmixAwx',\n",
       " 'It is the future of the media. Never in ZYG News Network',\n",
       " 'RT @IvankaTrump: A message from @IvankaTrump! #SCPrimary #SCPrimary #SCPrimary #SCPrimary #SCPrimary #SCPrimary #Google https://t.co/5q4CFPLEfI',\n",
       " 'RT @FLOTUS: We are honoring the opening of #G4AJ. https://t.co/FtRvxz1iRQ',\n",
       " 'RT @FLOTUS: Congrats to my children on #NationalA.Moms re-elect @realDonaldTrump. You are a leader &amp; we will get it! #SCPrimary https://t.co/hxgF9tTjD7',\n",
       " 'RT @FLOTUS: Had a wonderful meeting with @FLOTUS this afternoon at the @WhiteHouse! #SCPrimary #SCPrimary https://t.co/9WcWT6uZLv',\n",
       " 'Remember',\n",
       " 'The Better Business Bureau report',\n",
       " 'Rubio has received more data on refugees at the Border by far the worst. Not many people have asked.',\n",
       " 'I will be in Cleveland',\n",
       " 'I will be going to a great Republican in Florida',\n",
       " '..big unnecessary regulation cuts made it all possible” (among many other things). “President Trump reversed the policies of President Obama and President Obama',\n",
       " 'The Democrats',\n",
       " 'I am pleased to announce that Danny Burch',\n",
       " 'RT @FoxNews: FOX CONFIRST: \"\"We\\'re tapping 800 million people in one of the most dramatic in U.S. political history',\n",
       " 'RT @foxandfriends: \"\"WE WILL DEFEAT ISIS. THEY AROUND US AGAIN! We will defeat ISIS',\n",
       " 'RT @foxandfriends: \"\"We are ALREADY LIVE at our masts of classified and top secret intelligence…',\n",
       " \"RT @foxandfriends: .@jaketapper:  We won't have it\",\n",
       " 'RT @foxandfriends: .@jaketapper: .@jaketapper : https://t.co/jaketapper : https://t.co…',\n",
       " 'RT @foxandfriends: .@jaketapper: WE DON’T WORSHIP GOVERNMENT - WE WORSHIP GOD https://t.c…',\n",
       " 'RT @foxandfriends: .@jakedetapper: .@jakedetapper Great Interview! https://t.co/9GMDYS5Zo',\n",
       " 'RT @foxandfriends: .@brithume3@brithume1bphei: Great Interview!  https://t.co/aGUH98Xohi',\n",
       " 'RT',\n",
       " ' 8',\n",
       " 'RT @FLOTUS: Thank u to Queen Fabiola University Hospital in Orlando',\n",
       " 'Congratulations @LibertyU. Never looked so bad. Made me feel so proud of what I did not forget!  MAKE AMERICA GREAT AGAIN!',\n",
       " '@JaredStron: @realDonaldTrump I am in a position to influence the Election in a landslide in Florida. Cruz 2016\"\"  Do you believe that the people are now being used against me by the false and dishonest media in order to get my endorsement? I am millions of people who KNOW how I am doing this! Also',\n",
       " '@jensen4law: @WayneDupreeShow @DavidJMadeira  @TheBig_Train @jeffpresents Trump and all of Ben Carson\\'s great supporters!\"\"\"',\n",
       " 'Thank you David. This is a MOVEMENT like we have never seen before! https://t.co/zYCNmkkaJ',\n",
       " '@Jensen4law: @realDonaldTrump @JudgeJeanine GO TRUMP\"\"',\n",
       " '@restorereality:  @loudobbsnews @megynkelly  @TheFiveGOeZm',\n",
       " 'Great new poll - thank you! https://t.co/dL7wlGHUvp',\n",
       " 'Thank you Mark. https://t.co/kuQiZxxNp',\n",
       " 'Thank you Mark. https://t.co/uASvAiBPC',\n",
       " 'Thank you Mark. https://t.co/U1iTLmOw',\n",
       " 'Thank you Mark. https://t.co/kuQiZDgdRxwE',\n",
       " 'Thank you!',\n",
       " 'Thank you Mark. https://t.co/JiY2dojgN',\n",
       " 'Thank you Mark. https://t.co/5L7eZf0Slx0',\n",
       " 'Thank you Mark. https://t.co/U7tWOaLmOo4l',\n",
       " 'Thank you for a great evening - we are all proud to be in Hyderabad. We are heading our big stuff!',\n",
       " 'RT @realDonaldTrump: Get out and VOTE for @DeanHeller! #MAGA💯🗸🇱🇱🇱🇱🇱🇸🇬🇰🇴 https://t.co/xrTZzCsVwLnN1',\n",
       " 'RT @realDonaldTrump: Get out and Vote forDeanHeller! #DrainTheSwamp; #Jobs2016',\n",
       " 'https://t.co/X7CH8Zn3lm https://t.co/oHIQoZ6w',\n",
       " 'RT @realDonaldTrump: Get out and Vote for the Honored Veterans who want to keep fighting Vets and bring back America-… https://t.co/Fvx8S4xJ8Zs0']"
      ]
     },
     "execution_count": 30,
     "metadata": {},
     "output_type": "execute_result"
    }
   ],
   "source": [
    "indices = []\n",
    "for i in range(len(fake_data)):\n",
    "    if re.match(\"=+.*=\", fake_data[i]):\n",
    "        indices.append(i)\n",
    "for i in indices:\n",
    "    del fake_data[i]\n",
    "fake_data[:100]"
   ]
  },
  {
   "cell_type": "code",
   "execution_count": 14,
   "metadata": {},
   "outputs": [
    {
     "data": {
      "text/plain": [
       "['No Collusion - No Obstruction! https://t.co/cbFOEEyLtM',\n",
       " 'I will be in Green Bay Wisconsin on Saturday April 27th at the Resch Center — 7:00pm (CDT). Big crowd expected! #MAGA https://t.co/BPYK8PF0O8',\n",
       " 'So weird to watch Crazy Bernie on @FoxNews. Not surprisingly @BretBaier and the “audience” was so smiley and nice. Very strange and now we have @donnabrazile?',\n",
       " 'No Collusion - No Obstruction!',\n",
       " 'A must read Andy McCarthy’s column today “Dirty dealings of dirt devils who concocted Trump-Russia probe.” The greatest Scam in political history. If the Mainstream Media were honest which they are not this story would be bigger and more important than Watergate. Someday!',\n",
       " 'God bless the people of France!',\n",
       " 'The forgotten voters of the 2016 Election are now doing great. The Steel Industry is rebuilding and expanding at a pace that it hasn’t seen in decades. Our Country has one of the best Economies in many years perhaps ever. Unemployment numbers best in 51 years. Wow!',\n",
       " 'So horrible to watch the massive fire at Notre Dame Cathedral in Paris. Perhaps flying water tankers could be used to put it out. Must act quickly!',\n",
       " 'Spoke to @TigerWoods to congratulate him on the great victory he had in yesterday’s @TheMasters &amp; to inform him that because of his incredible Success &amp; Comeback in Sports (Golf) and more importantly LIFE I will be presenting him with the PRESIDENTIAL MEDAL OF FREEDOM!',\n",
       " 'Heading to the Great State of Minnesota!']"
      ]
     },
     "execution_count": 14,
     "metadata": {},
     "output_type": "execute_result"
    }
   ],
   "source": [
    "real_data[:10]"
   ]
  },
  {
   "cell_type": "code",
   "execution_count": 16,
   "metadata": {},
   "outputs": [],
   "source": [
    "web_data = {\n",
    "    \"original_tweets\": real_data,\n",
    "    \"fake_tweets\": fake_data,\n",
    "}"
   ]
  },
  {
   "cell_type": "code",
   "execution_count": 17,
   "metadata": {},
   "outputs": [],
   "source": [
    "with open('/Users/schuylerjackson/text_generator/website/flask_site/data/model.data', 'wb') as file:\n",
    "    pickle.dump(web_data, file)"
   ]
  },
  {
   "cell_type": "code",
   "execution_count": null,
   "metadata": {},
   "outputs": [],
   "source": []
  }
 ],
 "metadata": {
  "kernelspec": {
   "display_name": "Python 3",
   "language": "python",
   "name": "python3"
  },
  "language_info": {
   "codemirror_mode": {
    "name": "ipython",
    "version": 3
   },
   "file_extension": ".py",
   "mimetype": "text/x-python",
   "name": "python",
   "nbconvert_exporter": "python",
   "pygments_lexer": "ipython3",
   "version": "3.6.4"
  }
 },
 "nbformat": 4,
 "nbformat_minor": 2
}

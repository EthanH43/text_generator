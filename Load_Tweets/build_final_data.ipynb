{
 "cells": [
  {
   "cell_type": "markdown",
   "metadata": {},
   "source": [
    "This Cell is Used to make the data that will be passed to the website."
   ]
  },
  {
   "cell_type": "code",
   "execution_count": 1,
   "metadata": {},
   "outputs": [],
   "source": [
    "import pandas as pd\n",
    "import numpy as np\n",
    "import tensorflow as tf\n",
    "import random\n",
    "import sys\n",
    "import pickle\n",
    "import csv\n",
    "import os\n",
    "import matplotlib.pyplot as plt\n",
    "import re"
   ]
  },
  {
   "cell_type": "code",
   "execution_count": 2,
   "metadata": {},
   "outputs": [
    {
     "data": {
      "text/html": [
       "<div>\n",
       "<style scoped>\n",
       "    .dataframe tbody tr th:only-of-type {\n",
       "        vertical-align: middle;\n",
       "    }\n",
       "\n",
       "    .dataframe tbody tr th {\n",
       "        vertical-align: top;\n",
       "    }\n",
       "\n",
       "    .dataframe thead th {\n",
       "        text-align: right;\n",
       "    }\n",
       "</style>\n",
       "<table border=\"1\" class=\"dataframe\">\n",
       "  <thead>\n",
       "    <tr style=\"text-align: right;\">\n",
       "      <th></th>\n",
       "      <th>Unnamed: 0</th>\n",
       "      <th>text</th>\n",
       "      <th>created_at</th>\n",
       "    </tr>\n",
       "  </thead>\n",
       "  <tbody>\n",
       "    <tr>\n",
       "      <th>0</th>\n",
       "      <td>0</td>\n",
       "      <td>No Collusion - No Obstruction! https://t.co/cb...</td>\n",
       "      <td>2019-04-16 18:59:17</td>\n",
       "    </tr>\n",
       "    <tr>\n",
       "      <th>1</th>\n",
       "      <td>1</td>\n",
       "      <td>I will be in Green Bay Wisconsin on Saturday A...</td>\n",
       "      <td>2019-04-16 18:01:11</td>\n",
       "    </tr>\n",
       "    <tr>\n",
       "      <th>2</th>\n",
       "      <td>2</td>\n",
       "      <td>So weird to watch Crazy Bernie on @FoxNews. No...</td>\n",
       "      <td>2019-04-16 14:11:46</td>\n",
       "    </tr>\n",
       "    <tr>\n",
       "      <th>3</th>\n",
       "      <td>3</td>\n",
       "      <td>No Collusion - No Obstruction!</td>\n",
       "      <td>2019-04-16 13:34:55</td>\n",
       "    </tr>\n",
       "    <tr>\n",
       "      <th>4</th>\n",
       "      <td>4</td>\n",
       "      <td>A must read Andy McCarthy’s column today “Dirt...</td>\n",
       "      <td>2019-04-16 13:02:23</td>\n",
       "    </tr>\n",
       "  </tbody>\n",
       "</table>\n",
       "</div>"
      ],
      "text/plain": [
       "   Unnamed: 0                                               text  \\\n",
       "0           0  No Collusion - No Obstruction! https://t.co/cb...   \n",
       "1           1  I will be in Green Bay Wisconsin on Saturday A...   \n",
       "2           2  So weird to watch Crazy Bernie on @FoxNews. No...   \n",
       "3           3                     No Collusion - No Obstruction!   \n",
       "4           4  A must read Andy McCarthy’s column today “Dirt...   \n",
       "\n",
       "            created_at  \n",
       "0  2019-04-16 18:59:17  \n",
       "1  2019-04-16 18:01:11  \n",
       "2  2019-04-16 14:11:46  \n",
       "3  2019-04-16 13:34:55  \n",
       "4  2019-04-16 13:02:23  "
      ]
     },
     "execution_count": 2,
     "metadata": {},
     "output_type": "execute_result"
    }
   ],
   "source": [
    "data = pd.read_csv(\"./data/Full Trump Archive.csv\")\n",
    "data.head()"
   ]
  },
  {
   "cell_type": "code",
   "execution_count": 5,
   "metadata": {},
   "outputs": [
    {
     "name": "stdout",
     "output_type": "stream",
     "text": [
      "Number of fake tweets:  9413\n",
      "Number of real tweets:  34692\n"
     ]
    }
   ],
   "source": [
    "with open('./data/fake_tweets.txt') as f:\n",
    "    text = f.read()\n",
    "    fake_data = text.split('\\n')\n",
    "\n",
    "real_data = list(data['text'])\n",
    "print(\"Number of fake tweets: \", len(fake_data))\n",
    "print(\"Number of real tweets: \", len(real_data))"
   ]
  },
  {
   "cell_type": "code",
   "execution_count": 57,
   "metadata": {},
   "outputs": [],
   "source": [
    "def parser(file, n):\n",
    "    \"\"\"Breaks a text file into a list of n lines each.\n",
    "    \n",
    "    file - the path to a file (string).\n",
    "    returns - List of n lines each.\n",
    "    \"\"\"\n",
    "    with open(file) as f:\n",
    "        lines = f.readlines()\n",
    "        \n",
    "    i = 0\n",
    "    j = 0\n",
    "    string = \"\"\n",
    "    result = []\n",
    "    while i < len(lines):\n",
    "        line = lines[i]\n",
    "        if not re.match(\"===.*===\", line):\n",
    "            string += line\n",
    "        if j % n == 0: \n",
    "            if line == '\\n':\n",
    "                result.append(string)\n",
    "                string = \"\"\n",
    "            else:\n",
    "                string = string[:-3]\n",
    "                string += \"...\"\n",
    "                result.append(string)\n",
    "                while i < len(lines) and lines[i] != \"\\n\":\n",
    "                    i += 1\n",
    "                string = \"\"\n",
    "        i += 1\n",
    "        j += 1\n",
    "        \n",
    "    return result"
   ]
  },
  {
   "cell_type": "code",
   "execution_count": 62,
   "metadata": {},
   "outputs": [],
   "source": [
    "real_shake_data = parser('./data/shakespeare.txt', 10)\n",
    "\n",
    "fake_shake_data = parser('./data/shake_results.txt', 10)"
   ]
  },
  {
   "cell_type": "code",
   "execution_count": null,
   "metadata": {},
   "outputs": [],
   "source": []
  },
  {
   "cell_type": "code",
   "execution_count": 65,
   "metadata": {},
   "outputs": [
    {
     "data": {
      "text/plain": [
       "8308"
      ]
     },
     "execution_count": 65,
     "metadata": {},
     "output_type": "execute_result"
    }
   ],
   "source": [
    "# Remove all http only tweets, as well as the empyt ones, and the ====== sample 1 ====== lines\n",
    "\n",
    "delete = []\n",
    "for tw in fake_data:\n",
    "    if re.match(\"^https:\\S+|=.+=\", tw) or not tw:\n",
    "        delete.append(tw)\n",
    "for tw in delete:\n",
    "    fake_data.remove(tw)\n",
    "len(fake_data)"
   ]
  },
  {
   "cell_type": "code",
   "execution_count": 66,
   "metadata": {},
   "outputs": [
    {
     "data": {
      "text/plain": [
       "[' time making him bigger. The man in The House gets it☺',\n",
       " 'Never heard of a deal against Bernie Sanders after the election because then he would go against the typical politician - all of that matters is pretty sad.',\n",
       " 'Hillary’s campaign is not a change effort - we will aberdeen to bring all together. moderators can’t report the results but can’t believe? I’ll repeal and replace! https://t.co/phxlYOJ1',\n",
       " 'Via @MyFoxNewsSunday by Melanie Lillsman: “Trump Netanyahu at GOP rally $4 million but Clinton had 11% support of Trump yesterday” http://t.co/2Xzs4pnxQ4 The most dishonest press cut in history!',\n",
       " 'Wow 19000 released copies of The NYTimes about my book “the great battles of the enemy” write a long successful check. Makes a great holiday gift.',\n",
       " 'Thank you @AnnCoulter for your kind words on The View. It was great having you at the @trumpcityusa on @FoxNews. NICE!',\n",
       " '@Hopeisalus: @realDonaldTrump you will run soon. America needs you! #TRUMP2016',\n",
       " '@strong23: I hope @realDonaldTrump runs so that we can finally have a winner in the white house.',\n",
       " '@deannecox777: @realDonaldTrump Mr Trump you are a great person that lots of a chess sports fan should be here.  Thank you Deanne!',\n",
       " '@TheRealMasonS: You bought Pine Road and Rightly. Should be in town.  My uncle was in Indiana &amp; probably did. We will see you at the rally.']"
      ]
     },
     "execution_count": 66,
     "metadata": {},
     "output_type": "execute_result"
    }
   ],
   "source": [
    "fake_data[:10]"
   ]
  },
  {
   "cell_type": "code",
   "execution_count": 67,
   "metadata": {},
   "outputs": [
    {
     "data": {
      "text/plain": [
       "['No Collusion - No Obstruction! https://t.co/cbFOEEyLtM',\n",
       " 'I will be in Green Bay Wisconsin on Saturday April 27th at the Resch Center — 7:00pm (CDT). Big crowd expected! #MAGA https://t.co/BPYK8PF0O8',\n",
       " 'So weird to watch Crazy Bernie on @FoxNews. Not surprisingly @BretBaier and the “audience” was so smiley and nice. Very strange and now we have @donnabrazile?',\n",
       " 'No Collusion - No Obstruction!',\n",
       " 'A must read Andy McCarthy’s column today “Dirty dealings of dirt devils who concocted Trump-Russia probe.” The greatest Scam in political history. If the Mainstream Media were honest which they are not this story would be bigger and more important than Watergate. Someday!',\n",
       " 'God bless the people of France!',\n",
       " 'The forgotten voters of the 2016 Election are now doing great. The Steel Industry is rebuilding and expanding at a pace that it hasn’t seen in decades. Our Country has one of the best Economies in many years perhaps ever. Unemployment numbers best in 51 years. Wow!',\n",
       " 'So horrible to watch the massive fire at Notre Dame Cathedral in Paris. Perhaps flying water tankers could be used to put it out. Must act quickly!',\n",
       " 'Spoke to @TigerWoods to congratulate him on the great victory he had in yesterday’s @TheMasters &amp; to inform him that because of his incredible Success &amp; Comeback in Sports (Golf) and more importantly LIFE I will be presenting him with the PRESIDENTIAL MEDAL OF FREEDOM!',\n",
       " 'Heading to the Great State of Minnesota!']"
      ]
     },
     "execution_count": 67,
     "metadata": {},
     "output_type": "execute_result"
    }
   ],
   "source": [
    "real_data[:10]"
   ]
  },
  {
   "cell_type": "code",
   "execution_count": 68,
   "metadata": {},
   "outputs": [],
   "source": [
    "web_data = {\n",
    "    \"original_tweets\": real_data,\n",
    "    \"fake_tweets\": fake_data,\n",
    "    \"real_shake\": real_shake_data,\n",
    "    \"fake_shake\": fake_shake_data\n",
    "}"
   ]
  },
  {
   "cell_type": "code",
   "execution_count": 69,
   "metadata": {},
   "outputs": [],
   "source": [
    "with open('/Users/schuylerjackson/text_generator/website/flask_site/data/model.data', 'wb') as file:\n",
    "    pickle.dump(web_data, file)"
   ]
  },
  {
   "cell_type": "code",
   "execution_count": null,
   "metadata": {},
   "outputs": [],
   "source": []
  }
 ],
 "metadata": {
  "kernelspec": {
   "display_name": "Python 3",
   "language": "python",
   "name": "python3"
  },
  "language_info": {
   "codemirror_mode": {
    "name": "ipython",
    "version": 3
   },
   "file_extension": ".py",
   "mimetype": "text/x-python",
   "name": "python",
   "nbconvert_exporter": "python",
   "pygments_lexer": "ipython3",
   "version": "3.6.4"
  }
 },
 "nbformat": 4,
 "nbformat_minor": 2
}

{
 "cells": [
  {
   "cell_type": "markdown",
   "metadata": {},
   "source": [
    "This Cell is Used to make the data that will be passed to the website."
   ]
  },
  {
   "cell_type": "code",
   "execution_count": 72,
   "metadata": {},
   "outputs": [],
   "source": [
    "import pandas as pd\n",
    "import numpy as np\n",
    "import tensorflow as tf\n",
    "import random\n",
    "import sys\n",
    "import pickle\n",
    "import csv\n",
    "import os\n",
    "import matplotlib.pyplot as plt\n",
    "import re"
   ]
  },
  {
   "cell_type": "code",
   "execution_count": 73,
   "metadata": {},
   "outputs": [
    {
     "data": {
      "text/html": [
       "<div>\n",
       "<style scoped>\n",
       "    .dataframe tbody tr th:only-of-type {\n",
       "        vertical-align: middle;\n",
       "    }\n",
       "\n",
       "    .dataframe tbody tr th {\n",
       "        vertical-align: top;\n",
       "    }\n",
       "\n",
       "    .dataframe thead th {\n",
       "        text-align: right;\n",
       "    }\n",
       "</style>\n",
       "<table border=\"1\" class=\"dataframe\">\n",
       "  <thead>\n",
       "    <tr style=\"text-align: right;\">\n",
       "      <th></th>\n",
       "      <th>Unnamed: 0</th>\n",
       "      <th>Unnamed: 0.1</th>\n",
       "      <th>Unnamed: 0.1.1</th>\n",
       "      <th>Unnamed: 0.1.1.1</th>\n",
       "      <th>text</th>\n",
       "      <th>created_at</th>\n",
       "    </tr>\n",
       "  </thead>\n",
       "  <tbody>\n",
       "    <tr>\n",
       "      <th>0</th>\n",
       "      <td>0</td>\n",
       "      <td>0</td>\n",
       "      <td>0</td>\n",
       "      <td>0</td>\n",
       "      <td>No Collusion - No Obstruction! https://t.co/cb...</td>\n",
       "      <td>2019-04-16 18:59:17</td>\n",
       "    </tr>\n",
       "    <tr>\n",
       "      <th>1</th>\n",
       "      <td>1</td>\n",
       "      <td>1</td>\n",
       "      <td>1</td>\n",
       "      <td>1</td>\n",
       "      <td>I will be in Green Bay Wisconsin on Saturday A...</td>\n",
       "      <td>2019-04-16 18:01:11</td>\n",
       "    </tr>\n",
       "    <tr>\n",
       "      <th>2</th>\n",
       "      <td>2</td>\n",
       "      <td>2</td>\n",
       "      <td>2</td>\n",
       "      <td>2</td>\n",
       "      <td>So weird to watch Crazy Bernie on @FoxNews. No...</td>\n",
       "      <td>2019-04-16 14:11:46</td>\n",
       "    </tr>\n",
       "    <tr>\n",
       "      <th>3</th>\n",
       "      <td>3</td>\n",
       "      <td>3</td>\n",
       "      <td>3</td>\n",
       "      <td>3</td>\n",
       "      <td>No Collusion - No Obstruction!</td>\n",
       "      <td>2019-04-16 13:34:55</td>\n",
       "    </tr>\n",
       "    <tr>\n",
       "      <th>4</th>\n",
       "      <td>4</td>\n",
       "      <td>4</td>\n",
       "      <td>4</td>\n",
       "      <td>4</td>\n",
       "      <td>A must read Andy McCarthy’s column today “Dirt...</td>\n",
       "      <td>2019-04-16 13:02:23</td>\n",
       "    </tr>\n",
       "  </tbody>\n",
       "</table>\n",
       "</div>"
      ],
      "text/plain": [
       "   Unnamed: 0  Unnamed: 0.1  Unnamed: 0.1.1  Unnamed: 0.1.1.1  \\\n",
       "0           0             0               0                 0   \n",
       "1           1             1               1                 1   \n",
       "2           2             2               2                 2   \n",
       "3           3             3               3                 3   \n",
       "4           4             4               4                 4   \n",
       "\n",
       "                                                text           created_at  \n",
       "0  No Collusion - No Obstruction! https://t.co/cb...  2019-04-16 18:59:17  \n",
       "1  I will be in Green Bay Wisconsin on Saturday A...  2019-04-16 18:01:11  \n",
       "2  So weird to watch Crazy Bernie on @FoxNews. No...  2019-04-16 14:11:46  \n",
       "3                     No Collusion - No Obstruction!  2019-04-16 13:34:55  \n",
       "4  A must read Andy McCarthy’s column today “Dirt...  2019-04-16 13:02:23  "
      ]
     },
     "execution_count": 73,
     "metadata": {},
     "output_type": "execute_result"
    }
   ],
   "source": [
    "data = pd.read_csv(\"./data/Full Trump Archive.csv\")\n",
    "data.head()"
   ]
  },
  {
   "cell_type": "code",
   "execution_count": 74,
   "metadata": {},
   "outputs": [],
   "source": [
    "\n",
    "with open('./data/samples/run1/fake_tweets.txt') as f:\n",
    "    text = f.read()\n",
    "    fake_data = text.split('\\n')\n",
    "\n",
    "real_data = list(data['text'])"
   ]
  },
  {
   "cell_type": "code",
   "execution_count": 75,
   "metadata": {},
   "outputs": [
    {
     "data": {
      "text/plain": [
       "['======== SAMPLE 1 ========',\n",
       " ' on@ericblacksmith @MSNBC: .@IngrahamAngle: .@realDonaldTrump #TrumpTrain https://t.co/VZ6wfX0TQEjWQF',\n",
       " 'President Donald J. Trump has chosen to run on my behalf',\n",
       " 'The Fake News CNN has gone crazy and gone totally crazy. These CNN sources are biased and that will only get worse with more reporting!',\n",
       " 'Just got out that the Fake News is not factoring out how biased these days on @FoxNews. Very dishonest people! @FoxNews',\n",
       " \"While I've been away from a very good debate night already\",\n",
       " 'MAKE AMERICA GREAT AGAIN',\n",
       " 'https://t.co/mE7D9F6oXv',\n",
       " \"RT @IvankaTrump: .@realDonaldTrump: As @EricTrump: @realDonaldTrump @realDonaldTrump  “Duffy's been a great surprise. Thank you! #Dawn’s 2017 @TeamTrump’s #SuperTuesday!  @TeamTrump \",\n",
       " '']"
      ]
     },
     "execution_count": 75,
     "metadata": {},
     "output_type": "execute_result"
    }
   ],
   "source": [
    "fake_data[:10]"
   ]
  },
  {
   "cell_type": "code",
   "execution_count": 76,
   "metadata": {},
   "outputs": [
    {
     "data": {
      "text/plain": [
       "[' on@ericblacksmith @MSNBC: .@IngrahamAngle: .@realDonaldTrump #TrumpTrain https://t.co/VZ6wfX0TQEjWQF',\n",
       " 'President Donald J. Trump has chosen to run on my behalf',\n",
       " 'The Fake News CNN has gone crazy and gone totally crazy. These CNN sources are biased and that will only get worse with more reporting!',\n",
       " 'Just got out that the Fake News is not factoring out how biased these days on @FoxNews. Very dishonest people! @FoxNews',\n",
       " \"While I've been away from a very good debate night already\",\n",
       " 'MAKE AMERICA GREAT AGAIN',\n",
       " \"RT @IvankaTrump: .@realDonaldTrump: As @EricTrump: @realDonaldTrump @realDonaldTrump  “Duffy's been a great surprise. Thank you! #Dawn’s 2017 @TeamTrump’s #SuperTuesday!  @TeamTrump \",\n",
       " 'Video: https://t.co/4PV9yA',\n",
       " 'The debate was tough to debate. We will have a winner tonight',\n",
       " 'Our great country is working hard to make America Great Again. #DawnNews conference https://t.co/wO2r0dFwIYvDQ']"
      ]
     },
     "execution_count": 76,
     "metadata": {},
     "output_type": "execute_result"
    }
   ],
   "source": [
    "# Remove all http only tweets, as well as the empyt ones, and the ====== sample 1 ====== lines\n",
    "\n",
    "delete = []\n",
    "for tw in fake_data:\n",
    "    if re.match(\"^https:\\S+|=.+=\", tw) or not tw:\n",
    "        delete.append(tw)\n",
    "for tw in delete:\n",
    "    fake_data.remove(tw)\n",
    "fake_data[:10]"
   ]
  },
  {
   "cell_type": "code",
   "execution_count": 77,
   "metadata": {},
   "outputs": [
    {
     "data": {
      "text/plain": [
       "['No Collusion - No Obstruction! https://t.co/cbFOEEyLtM',\n",
       " 'I will be in Green Bay Wisconsin on Saturday April 27th at the Resch Center — 7:00pm (CDT). Big crowd expected! #MAGA https://t.co/BPYK8PF0O8',\n",
       " 'So weird to watch Crazy Bernie on @FoxNews. Not surprisingly @BretBaier and the “audience” was so smiley and nice. Very strange and now we have @donnabrazile?',\n",
       " 'No Collusion - No Obstruction!',\n",
       " 'A must read Andy McCarthy’s column today “Dirty dealings of dirt devils who concocted Trump-Russia probe.” The greatest Scam in political history. If the Mainstream Media were honest which they are not this story would be bigger and more important than Watergate. Someday!',\n",
       " 'God bless the people of France!',\n",
       " 'The forgotten voters of the 2016 Election are now doing great. The Steel Industry is rebuilding and expanding at a pace that it hasn’t seen in decades. Our Country has one of the best Economies in many years perhaps ever. Unemployment numbers best in 51 years. Wow!',\n",
       " 'So horrible to watch the massive fire at Notre Dame Cathedral in Paris. Perhaps flying water tankers could be used to put it out. Must act quickly!',\n",
       " 'Spoke to @TigerWoods to congratulate him on the great victory he had in yesterday’s @TheMasters &amp; to inform him that because of his incredible Success &amp; Comeback in Sports (Golf) and more importantly LIFE I will be presenting him with the PRESIDENTIAL MEDAL OF FREEDOM!',\n",
       " 'Heading to the Great State of Minnesota!']"
      ]
     },
     "execution_count": 77,
     "metadata": {},
     "output_type": "execute_result"
    }
   ],
   "source": [
    "real_data[:10]"
   ]
  },
  {
   "cell_type": "code",
   "execution_count": 78,
   "metadata": {},
   "outputs": [],
   "source": [
    "web_data = {\n",
    "    \"original_tweets\": real_data,\n",
    "    \"fake_tweets\": fake_data,\n",
    "}"
   ]
  },
  {
   "cell_type": "code",
   "execution_count": 79,
   "metadata": {},
   "outputs": [],
   "source": [
    "with open('/Users/schuylerjackson/text_generator/website/flask_site/data/model.data', 'wb') as file:\n",
    "    pickle.dump(web_data, file)"
   ]
  },
  {
   "cell_type": "code",
   "execution_count": null,
   "metadata": {},
   "outputs": [],
   "source": []
  }
 ],
 "metadata": {
  "kernelspec": {
   "display_name": "Python 3",
   "language": "python",
   "name": "python3"
  },
  "language_info": {
   "codemirror_mode": {
    "name": "ipython",
    "version": 3
   },
   "file_extension": ".py",
   "mimetype": "text/x-python",
   "name": "python",
   "nbconvert_exporter": "python",
   "pygments_lexer": "ipython3",
   "version": "3.6.4"
  }
 },
 "nbformat": 4,
 "nbformat_minor": 2
}

{
 "cells": [
  {
   "cell_type": "code",
   "execution_count": 1,
   "metadata": {},
   "outputs": [],
   "source": [
    "# check out list words and the apostrophe situation in the step for loop\n",
    "# check out allowing more than maxseqlen in generate text\n",
    "# look into batch size\n",
    "#text generation apostrpphe breaking"
   ]
  },
  {
   "cell_type": "code",
   "execution_count": 2,
   "metadata": {},
   "outputs": [
    {
     "name": "stderr",
     "output_type": "stream",
     "text": [
      "Using TensorFlow backend.\n"
     ]
    }
   ],
   "source": [
    "import pandas as pd\n",
    "import numpy as np\n",
    "from keras.preprocessing.sequence import pad_sequences\n",
    "from keras.optimizers import RMSprop\n",
    "from keras import optimizers\n",
    "import sys\n",
    "from keras.callbacks import LambdaCallback\n",
    "import random\n",
    "import matplotlib.pyplot as plt\n",
    "\n"
   ]
  },
  {
   "cell_type": "code",
   "execution_count": 3,
   "metadata": {},
   "outputs": [],
   "source": [
    "def sample(preds, temperature=1.0):\n",
    "    # helper function to sample an index from a probability array\n",
    "    preds = np.asarray(preds).astype('float64')\n",
    "    preds = np.log(preds) / temperature\n",
    "    exp_preds = np.exp(preds)\n",
    "    preds = exp_preds / np.sum(exp_preds)\n",
    "    probas = np.random.multinomial(1, preds, 1)\n",
    "    return np.argmax(probas)"
   ]
  },
  {
   "cell_type": "code",
   "execution_count": 4,
   "metadata": {},
   "outputs": [],
   "source": [
    "def generate_text(seed_text, numb_next_words):\n",
    "    output=seed_text\n",
    "    for i in range (numb_next_words):\n",
    "        \n",
    "        words_gen = set(seed_text.split())\n",
    "        words_gen=list(words_gen) #create list of unique words in seed text\n",
    "        \n",
    "        \n",
    "#         for i in range (len(words_gen)): #replace all ' in seed text\n",
    "#             words_gen[i]=words_gen[i].replace(\"‘\", '').replace(\"’\", '').replace(\"'\", '')\n",
    "            \n",
    "        #create a dictionary with index and word\n",
    "        word_indices_gen = dict((c, i) for i, c in enumerate(words_gen, 1)) \n",
    "        \n",
    "       #turn sentence into a sequence of numbers\n",
    "        sequence=[] \n",
    "        for word in seed_text.split():\n",
    "            sequence.append(word_indices_gen[word])\n",
    "        sequence_padded = pad_sequences([sequence], maxlen=10, padding='pre')\n",
    "#         sequence_padded=sequence\n",
    "            \n",
    "        #create an embedding matrix with same indices as word_index \n",
    "        EMBEDDING_DIM=25\n",
    "        total_words=len(word_indices_gen)+1\n",
    "        embedding_matrix = np.zeros((total_words, EMBEDDING_DIM))\n",
    "        for word, i in word_indices_gen.items():\n",
    "            embedding_vector = embeddings_index.get(word)\n",
    "            if embedding_vector is not None:\n",
    "                # words not found in embedding index will be all-zeros.\n",
    "                embedding_matrix[i] = embedding_vector\n",
    "        #create X input with embedding matrix for specific words (by their index)\n",
    "        gener=[]\n",
    "        for number in sequence_padded:\n",
    "            gener.append(embedding_matrix[number])\n",
    "\n",
    "        predicted=model.predict([gener], verbose=0)\n",
    "\n",
    "        predicted=sample(predicted[0])\n",
    "        output_word=\"\"\n",
    "        for word, index in word_indices.items():\n",
    "            if index == predicted:\n",
    "                output_word = word\n",
    "                break\n",
    "        output+=\" \" + output_word\n",
    "        seed_text+=\" \" + output_word\n",
    "        seed_text=seed_text.split(' ', 1)[1]\n",
    "    return output"
   ]
  },
  {
   "cell_type": "code",
   "execution_count": 5,
   "metadata": {},
   "outputs": [],
   "source": [
    "def on_epoch_end(epoch, _):\n",
    "    # Function invoked at end of each epoch. Prints generated text.\n",
    "    print()\n",
    "    print('----- Generating text after Epoch: %d' % epoch)\n",
    "\n",
    "    start_index = random.randint(0, len(listofwords) - maxlen - 1)\n",
    "    for diversity in [0.5, 1.0]:\n",
    "        print('----- diversity:', diversity)\n",
    "        generated = ''\n",
    "        sentence = listofwords[start_index: start_index + maxlen].str.cat(sep=' ')\n",
    "        generated += sentence\n",
    "        print('----- Generating with seed: \"' + sentence + '\"')\n",
    "        sys.stdout.write(generate_text(generated, 20))\n"
   ]
  },
  {
   "cell_type": "code",
   "execution_count": 6,
   "metadata": {},
   "outputs": [],
   "source": [
    "tweet_data=pd.read_csv('../Load_Tweets/data/tweet_data.csv')"
   ]
  },
  {
   "cell_type": "code",
   "execution_count": 7,
   "metadata": {},
   "outputs": [],
   "source": [
    "tweet_text = tweet_data['TEXT']"
   ]
  },
  {
   "cell_type": "code",
   "execution_count": 8,
   "metadata": {},
   "outputs": [],
   "source": [
    "tweet_text_all = tweet_data['TEXT'].str.cat(sep=' ')"
   ]
  },
  {
   "cell_type": "code",
   "execution_count": 9,
   "metadata": {},
   "outputs": [],
   "source": [
    "listofwords=pd.Series(tweet_text_all.split())"
   ]
  },
  {
   "cell_type": "code",
   "execution_count": 10,
   "metadata": {},
   "outputs": [
    {
     "data": {
      "text/plain": [
       "0          PAY TO PLAY POLITICS. #CrookedHillary [URL]\n",
       "1    Very little pick-up by the dishonest media of ...\n",
       "2    Crooked Hillary Clinton likes to talk about th...\n",
       "3    Thank you Florida- a MOVEMENT that has never b...\n",
       "4    Join me Thursday in Florida &amp; Ohio!West Pa...\n",
       "Name: TEXT, dtype: object"
      ]
     },
     "execution_count": 10,
     "metadata": {},
     "output_type": "execute_result"
    }
   ],
   "source": [
    "tweet_text.head()"
   ]
  },
  {
   "cell_type": "code",
   "execution_count": 11,
   "metadata": {},
   "outputs": [
    {
     "data": {
      "text/plain": [
       "<matplotlib.axes._subplots.AxesSubplot at 0x7fc0600fd5f8>"
      ]
     },
     "execution_count": 11,
     "metadata": {},
     "output_type": "execute_result"
    },
    {
     "data": {
      "image/png": "[encoded data removed]",
      "text/plain": [
       "<Figure size 432x288 with 1 Axes>"
      ]
     },
     "metadata": {},
     "output_type": "display_data"
    }
   ],
   "source": [
    "top_words=listofwords.value_counts()\n",
    "top_words_percent= top_words/len(listofwords)\n",
    "top_words.head(50).plot.bar()\n",
    "# top_words.head(50)"
   ]
  },
  {
   "cell_type": "code",
   "execution_count": 12,
   "metadata": {},
   "outputs": [
    {
     "data": {
      "text/plain": [
       "250988"
      ]
     },
     "execution_count": 12,
     "metadata": {},
     "output_type": "execute_result"
    }
   ],
   "source": [
    "total_chars=len(tweet_text_all)\n",
    "total_chars\n",
    "total_wordz=len((tweet_text_all.split()))\n",
    "total_wordz"
   ]
  },
  {
   "cell_type": "code",
   "execution_count": 13,
   "metadata": {},
   "outputs": [
    {
     "name": "stdout",
     "output_type": "stream",
     "text": [
      "total number of unique words 32293\n",
      "total number of unique chars 369\n"
     ]
    }
   ],
   "source": [
    "chars = set(tweet_text_all)\n",
    "words = set(tweet_text_all.split())\n",
    "print (\"total number of unique words\", len(words))\n",
    "print (\"total number of unique chars\", len(chars))"
   ]
  },
  {
   "cell_type": "code",
   "execution_count": 14,
   "metadata": {},
   "outputs": [],
   "source": [
    "words=list(words)"
   ]
  },
  {
   "cell_type": "code",
   "execution_count": 15,
   "metadata": {},
   "outputs": [],
   "source": [
    "#replace apostrophes in dictionary keys \n",
    "for i in range (len(words)):\n",
    "    words[i]=words[i].replace(\"‘\", '').replace(\"’\", '').replace(\"'\", '')"
   ]
  },
  {
   "cell_type": "code",
   "execution_count": 16,
   "metadata": {},
   "outputs": [
    {
     "data": {
      "text/plain": [
       "31907"
      ]
     },
     "execution_count": 16,
     "metadata": {},
     "output_type": "execute_result"
    }
   ],
   "source": [
    "words=set(words)\n",
    "len(words)"
   ]
  },
  {
   "cell_type": "code",
   "execution_count": 17,
   "metadata": {},
   "outputs": [],
   "source": [
    "#create forward and reverse word index\n",
    "word_indices = dict((c, i) for i, c in enumerate(words, 1))\n",
    "indices_word = dict((i, c) for i, c in enumerate(words,1 ))"
   ]
  },
  {
   "cell_type": "code",
   "execution_count": 18,
   "metadata": {},
   "outputs": [
    {
     "data": {
      "text/plain": [
       "31907"
      ]
     },
     "execution_count": 18,
     "metadata": {},
     "output_type": "execute_result"
    }
   ],
   "source": [
    "len(word_indices)\n",
    "max(word_indices.values())"
   ]
  },
  {
   "cell_type": "code",
   "execution_count": 64,
   "metadata": {},
   "outputs": [
    {
     "name": "stdout",
     "output_type": "stream",
     "text": [
      "length of sentence list: 77465\n",
      "length of next_word list 77465\n"
     ]
    }
   ],
   "source": [
    "#choose step \n",
    "\n",
    "maxlen = 10\n",
    "step = 2\n",
    "\n",
    "sentences = []\n",
    "next_words = []\n",
    "next_words = []\n",
    "list_words = []\n",
    "\n",
    "sentences2 = []\n",
    "for i in range (len(tweet_text)):\n",
    "    list_words = tweet_text.iloc[i].split()\n",
    "    for i in range(len( list_words)):\n",
    "        list_words[i]=list_words[i].replace(\"‘\", '').replace(\"’\", '').replace(\"'\", '')\n",
    "    for i in range(0, len(list_words) - maxlen, step):\n",
    "        sentences2 = ' '.join(list_words[i: i + maxlen])\n",
    "        sentences.append(sentences2)\n",
    "        next_words.append((list_words[i + maxlen]))\n",
    "\n",
    "print ('length of sentence list:', len(sentences))\n",
    "print (\"length of next_word list\", len(next_words))"
   ]
  },
  {
   "cell_type": "code",
   "execution_count": 65,
   "metadata": {},
   "outputs": [],
   "source": [
    "sequences=[]\n",
    "y=[]\n",
    "for i, sentence in enumerate(sentences):\n",
    "    sequence=[]\n",
    "    for j, word in enumerate(sentence.split()):\n",
    "        sequence.append(word_indices[word])\n",
    "    sequences.append(sequence)\n",
    "    y.append(word_indices[next_words[i]])"
   ]
  },
  {
   "cell_type": "code",
   "execution_count": 66,
   "metadata": {},
   "outputs": [
    {
     "data": {
      "text/plain": [
       "(77465, 10)"
      ]
     },
     "execution_count": 66,
     "metadata": {},
     "output_type": "execute_result"
    }
   ],
   "source": [
    "sequences=np.asarray(sequences)\n",
    "sequences.shape"
   ]
  },
  {
   "cell_type": "code",
   "execution_count": 67,
   "metadata": {},
   "outputs": [
    {
     "data": {
      "text/plain": [
       "31908"
      ]
     },
     "execution_count": 67,
     "metadata": {},
     "output_type": "execute_result"
    }
   ],
   "source": [
    "total_words= len(word_indices)+1\n",
    "total_words"
   ]
  },
  {
   "cell_type": "code",
   "execution_count": 68,
   "metadata": {},
   "outputs": [
    {
     "name": "stdout",
     "output_type": "stream",
     "text": [
      "Found 1193514 word vectors.\n"
     ]
    }
   ],
   "source": [
    "embeddings_index = {}\n",
    "f = open('../word_embeding/glove.twitter.27B.25d.txt')\n",
    "for line in f:\n",
    "    values = line.split()\n",
    "    word = values[0]\n",
    "    coefs = np.asarray(values[1:], dtype='float32')\n",
    "    embeddings_index[word] = coefs\n",
    "f.close()\n",
    "\n",
    "print('Found %s word vectors.' % len(embeddings_index))"
   ]
  },
  {
   "cell_type": "code",
   "execution_count": 69,
   "metadata": {},
   "outputs": [
    {
     "data": {
      "text/plain": [
       "31907"
      ]
     },
     "execution_count": 69,
     "metadata": {},
     "output_type": "execute_result"
    }
   ],
   "source": [
    "max(word_indices.values())\n",
    "len(word_indices)"
   ]
  },
  {
   "cell_type": "code",
   "execution_count": 70,
   "metadata": {},
   "outputs": [],
   "source": [
    "EMBEDDING_DIM=25\n",
    "embedding_matrix = np.zeros((total_words, EMBEDDING_DIM)) \n",
    "for word, i in word_indices.items():\n",
    "    embedding_vector = embeddings_index.get(word)\n",
    "    if embedding_vector is not None:\n",
    "        # words not found in embedding index will be all-zeros.\n",
    "        embedding_matrix[i] = embedding_vector"
   ]
  },
  {
   "cell_type": "code",
   "execution_count": 71,
   "metadata": {},
   "outputs": [
    {
     "data": {
      "text/plain": [
       "(31908, 25)"
      ]
     },
     "execution_count": 71,
     "metadata": {},
     "output_type": "execute_result"
    }
   ],
   "source": [
    "embedding_matrix.shape"
   ]
  },
  {
   "cell_type": "code",
   "execution_count": 72,
   "metadata": {},
   "outputs": [],
   "source": [
    "X=[]\n",
    "for number in sequences:\n",
    "    X.append(embedding_matrix[number])\n"
   ]
  },
  {
   "cell_type": "code",
   "execution_count": 73,
   "metadata": {},
   "outputs": [],
   "source": [
    "X=np.asarray(X)"
   ]
  },
  {
   "cell_type": "code",
   "execution_count": 74,
   "metadata": {},
   "outputs": [
    {
     "data": {
      "text/plain": [
       "(77465, 10, 25)"
      ]
     },
     "execution_count": 74,
     "metadata": {},
     "output_type": "execute_result"
    }
   ],
   "source": [
    "np.asarray(X).shape"
   ]
  },
  {
   "cell_type": "code",
   "execution_count": 75,
   "metadata": {},
   "outputs": [
    {
     "data": {
      "text/plain": [
       "(31908, 25)"
      ]
     },
     "execution_count": 75,
     "metadata": {},
     "output_type": "execute_result"
    }
   ],
   "source": [
    "embedding_matrix.shape"
   ]
  },
  {
   "cell_type": "code",
   "execution_count": 76,
   "metadata": {},
   "outputs": [
    {
     "data": {
      "text/plain": [
       "(31908, 25)"
      ]
     },
     "execution_count": 76,
     "metadata": {},
     "output_type": "execute_result"
    }
   ],
   "source": [
    "len(embedding_matrix)\n",
    "len(word_indices)\n",
    "len(sentences)\n",
    "embedding_matrix.shape"
   ]
  },
  {
   "cell_type": "code",
   "execution_count": 77,
   "metadata": {},
   "outputs": [
    {
     "data": {
      "text/plain": [
       "(77465,)"
      ]
     },
     "execution_count": 77,
     "metadata": {},
     "output_type": "execute_result"
    }
   ],
   "source": [
    "np.asarray(y).shape"
   ]
  },
  {
   "cell_type": "code",
   "execution_count": 78,
   "metadata": {},
   "outputs": [],
   "source": [
    "from sklearn.model_selection import train_test_split\n",
    "\n",
    "X_train, X_test, y_train, y_test = train_test_split(X, y, test_size=0.2, random_state=42)"
   ]
  },
  {
   "cell_type": "code",
   "execution_count": 79,
   "metadata": {},
   "outputs": [],
   "source": [
    "X_train_sample=X_train[0:10000]\n",
    "y_train_sample=y_train[0:10000]\n",
    "X_test_sample=X_test[0:1000]\n",
    "y_test_sample=y_test[0:1000]"
   ]
  },
  {
   "cell_type": "code",
   "execution_count": 116,
   "metadata": {},
   "outputs": [
    {
     "name": "stdout",
     "output_type": "stream",
     "text": [
      "_________________________________________________________________\n",
      "Layer (type)                 Output Shape              Param #   \n",
      "=================================================================\n",
      "lstm_12 (LSTM)               (None, 128)               78848     \n",
      "_________________________________________________________________\n",
      "dropout_10 (Dropout)         (None, 128)               0         \n",
      "_________________________________________________________________\n",
      "dense_10 (Dense)             (None, 31908)             4116132   \n",
      "=================================================================\n",
      "Total params: 4,194,980\n",
      "Trainable params: 4,194,980\n",
      "Non-trainable params: 0\n",
      "_________________________________________________________________\n"
     ]
    }
   ],
   "source": [
    "from keras.models import Sequential\n",
    "from keras.layers import Dense\n",
    "from keras.layers import Flatten\n",
    "from keras.layers import Embedding\n",
    "from keras.layers import Dropout\n",
    "from keras.layers import LSTM\n",
    "from keras.layers import Input\n",
    "from keras.regularizers import L1L2\n",
    "from keras import regularizers\n",
    "from keras import metrics\n",
    "# embedding_layer= Embedding(total_words, EMBEDDING_DIM, weights=[embedding_matrix],input_length=max_seq,trainable=False)\n",
    "# sequence_input = Input(shape=(max_seq,), dtype='int32')\n",
    "# embedded_sequences= embedding_layer(sequence_input)\n",
    "model=Sequential()\n",
    "# e=Embedding(total_words, EMBEDDING_DIM, weights=[embedding_matrix],input_length=maxlen,trainable=False)\n",
    "# model.add(e)\n",
    "model.add(LSTM(128, input_shape=(maxlen, EMBEDDING_DIM), bias_regularizer=regularizers.l1(0.01)))\n",
    "model.add(Dropout(0.2))\n",
    "# model.add(LSTM(512, return_sequences=False))\n",
    "# model.add(Dropout(0.1))\n",
    "# model.add(Flatten())\n",
    "model.add(Dense(total_words, activation=\"softmax\"))\n",
    "optimizer = RMSprop(lr=0.01)\n",
    "# sgd = optimizers.SGD(lr=0.01, clipvalue=0.5)\n",
    "model.compile(loss='sparse_categorical_crossentropy',  metrics=['accuracy'], optimizer=optimizer)\n",
    "model.summary()\n",
    "\n",
    "# model.add(LSTM(128, input_shape=(maxlen, len(chars))))\n",
    "# model.add(Dense(len(chars), activation='softmax'))\n",
    "\n",
    "# model.compile(loss='categorical_crossentropy', optimizer=optimizer)\n",
    "\n"
   ]
  },
  {
   "cell_type": "code",
   "execution_count": 117,
   "metadata": {},
   "outputs": [],
   "source": [
    "# from keras.models import load_model\n",
    "# model= load_model(\"../Saved_models/failed_on_99th_epoch_word_embedding\")"
   ]
  },
  {
   "cell_type": "code",
   "execution_count": 118,
   "metadata": {},
   "outputs": [
    {
     "name": "stdout",
     "output_type": "stream",
     "text": [
      "Train on 49577 samples, validate on 12395 samples\n",
      "Epoch 1/10\n",
      "49577/49577 [==============================] - 61s 1ms/step - loss: 8.0057 - acc: 0.0661 - val_loss: 8.2310 - val_acc: 0.0720\n",
      "Epoch 2/10\n",
      "49577/49577 [==============================] - 57s 1ms/step - loss: 8.9684 - acc: 0.0651 - val_loss: 10.0357 - val_acc: 0.0643\n",
      "Epoch 3/10\n",
      "49577/49577 [==============================] - 57s 1ms/step - loss: 9.3324 - acc: 0.0703 - val_loss: 9.2811 - val_acc: 0.0780\n",
      "Epoch 4/10\n",
      "49577/49577 [==============================] - 57s 1ms/step - loss: 9.3111 - acc: 0.0743 - val_loss: 9.3758 - val_acc: 0.0827\n",
      "Epoch 5/10\n",
      "49577/49577 [==============================] - 57s 1ms/step - loss: 9.3357 - acc: 0.0770 - val_loss: 9.4623 - val_acc: 0.0834\n",
      "Epoch 6/10\n",
      "49577/49577 [==============================] - 57s 1ms/step - loss: 9.3695 - acc: 0.0787 - val_loss: 9.4586 - val_acc: 0.0836\n",
      "Epoch 7/10\n",
      "49577/49577 [==============================] - 57s 1ms/step - loss: 9.3720 - acc: 0.0781 - val_loss: 9.5087 - val_acc: 0.0844\n",
      "Epoch 8/10\n",
      "49577/49577 [==============================] - 57s 1ms/step - loss: 9.3697 - acc: 0.0790 - val_loss: 9.5419 - val_acc: 0.0799\n",
      "Epoch 9/10\n",
      "49577/49577 [==============================] - 57s 1ms/step - loss: 9.3820 - acc: 0.0787 - val_loss: 9.5358 - val_acc: 0.0818\n",
      "Epoch 10/10\n",
      "49577/49577 [==============================] - 57s 1ms/step - loss: 9.3966 - acc: 0.0781 - val_loss: 9.5526 - val_acc: 0.0852\n"
     ]
    },
    {
     "data": {
      "text/plain": [
       "<keras.callbacks.History at 0x7fc04b7322e8>"
      ]
     },
     "execution_count": 118,
     "metadata": {},
     "output_type": "execute_result"
    }
   ],
   "source": [
    "# print_callback = LambdaCallback(on_epoch_end=on_epoch_end)\n",
    "from keras.callbacks import EarlyStopping\n",
    "early_stopping = EarlyStopping(monitor='val_acc', patience=3)\n",
    "model.fit(X_train, y_train, validation_split=0.2, epochs=10,callbacks=[early_stopping])"
   ]
  },
  {
   "cell_type": "code",
   "execution_count": 119,
   "metadata": {},
   "outputs": [
    {
     "name": "stdout",
     "output_type": "stream",
     "text": [
      "Accuracy: 9.900000\n",
      "loss: 9.635607\n",
      "perplexity: 795.4386352619334\n"
     ]
    }
   ],
   "source": [
    "loss, accuracy = model.evaluate(X_test_sample, y_test_sample, verbose=0)\n",
    "print('Accuracy: %f' % (accuracy*100))\n",
    "print('loss: %f' % (loss))\n",
    "perplexity = np.exp2(loss)\n",
    "print ('perplexity: {}'.format(perplexity))\n"
   ]
  },
  {
   "cell_type": "code",
   "execution_count": 121,
   "metadata": {},
   "outputs": [
    {
     "name": "stdout",
     "output_type": "stream",
     "text": [
      "i will be the U.S. and my great job. and the Dems They We including a big deal with Russia and people\n"
     ]
    }
   ],
   "source": [
    "print (generate_text(\"i will\", 20))"
   ]
  },
  {
   "cell_type": "code",
   "execution_count": 84,
   "metadata": {},
   "outputs": [],
   "source": [
    "# model.save('../failed_on_99th_epoch_word_embedding')"
   ]
  },
  {
   "cell_type": "code",
   "execution_count": 37,
   "metadata": {},
   "outputs": [],
   "source": [
    "predictions_test=model.predict(X_test)"
   ]
  },
  {
   "cell_type": "code",
   "execution_count": 38,
   "metadata": {},
   "outputs": [
    {
     "data": {
      "text/plain": [
       "10639"
      ]
     },
     "execution_count": 38,
     "metadata": {},
     "output_type": "execute_result"
    }
   ],
   "source": [
    "len(predictions_test)"
   ]
  },
  {
   "cell_type": "code",
   "execution_count": null,
   "metadata": {},
   "outputs": [],
   "source": []
  }
 ],
 "metadata": {
  "kernelspec": {
   "display_name": "Python 3",
   "language": "python",
   "name": "python3"
  },
  "language_info": {
   "codemirror_mode": {
    "name": "ipython",
    "version": 3
   },
   "file_extension": ".py",
   "mimetype": "text/x-python",
   "name": "python",
   "nbconvert_exporter": "python",
   "pygments_lexer": "ipython3",
   "version": "3.5.3"
  }
 },
 "nbformat": 4,
 "nbformat_minor": 2
}

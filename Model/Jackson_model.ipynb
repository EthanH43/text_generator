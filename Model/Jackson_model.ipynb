{
 "cells": [
  {
   "cell_type": "markdown",
   "metadata": {},
   "source": [
    "** RNN to generate tweets, using character level generation. **"
   ]
  },
  {
   "cell_type": "code",
   "execution_count": 1,
   "metadata": {},
   "outputs": [],
   "source": [
    "import pandas as pd\n",
    "import numpy as np\n",
    "import random\n",
    "import sys\n",
    "import matplotlib.pyplot as plt\n",
    "from tensorflow.keras.models import Sequential\n",
    "from tensorflow.keras.layers import Dense, LSTM, RNN, Softmax, Flatten, Dropout, Input\n",
    "from tensorflow.keras.optimizers import RMSprop\n",
    "from tensorflow.keras.callbacks import LambdaCallback"
   ]
  },
  {
   "cell_type": "code",
   "execution_count": 2,
   "metadata": {},
   "outputs": [],
   "source": [
    "data = pd.read_csv(\"../Load_Tweets/data/tweet_data.csv\") # this will break if this file is moved!"
   ]
  },
  {
   "cell_type": "code",
   "execution_count": 3,
   "metadata": {},
   "outputs": [
    {
     "data": {
      "text/html": [
       "<div>\n",
       "<style scoped>\n",
       "    .dataframe tbody tr th:only-of-type {\n",
       "        vertical-align: middle;\n",
       "    }\n",
       "\n",
       "    .dataframe tbody tr th {\n",
       "        vertical-align: top;\n",
       "    }\n",
       "\n",
       "    .dataframe thead th {\n",
       "        text-align: right;\n",
       "    }\n",
       "</style>\n",
       "<table border=\"1\" class=\"dataframe\">\n",
       "  <thead>\n",
       "    <tr style=\"text-align: right;\">\n",
       "      <th></th>\n",
       "      <th>ID</th>\n",
       "      <th>RETWEET</th>\n",
       "      <th>TEXT</th>\n",
       "    </tr>\n",
       "  </thead>\n",
       "  <tbody>\n",
       "    <tr>\n",
       "      <th>0</th>\n",
       "      <td>786204978629185536</td>\n",
       "      <td>False</td>\n",
       "      <td>PAY TO PLAY POLITICS. #CrookedHillary [URL]</td>\n",
       "    </tr>\n",
       "    <tr>\n",
       "      <th>1</th>\n",
       "      <td>786201435486781440</td>\n",
       "      <td>False</td>\n",
       "      <td>Very little pick-up by the dishonest media of ...</td>\n",
       "    </tr>\n",
       "    <tr>\n",
       "      <th>2</th>\n",
       "      <td>786189446274248704</td>\n",
       "      <td>False</td>\n",
       "      <td>Crooked Hillary Clinton likes to talk about th...</td>\n",
       "    </tr>\n",
       "    <tr>\n",
       "      <th>3</th>\n",
       "      <td>786054986534969344</td>\n",
       "      <td>False</td>\n",
       "      <td>Thank you Florida- a MOVEMENT that has never b...</td>\n",
       "    </tr>\n",
       "    <tr>\n",
       "      <th>4</th>\n",
       "      <td>786007502639038464</td>\n",
       "      <td>False</td>\n",
       "      <td>Join me Thursday in Florida &amp;amp; Ohio!West Pa...</td>\n",
       "    </tr>\n",
       "  </tbody>\n",
       "</table>\n",
       "</div>"
      ],
      "text/plain": [
       "                   ID  RETWEET  \\\n",
       "0  786204978629185536    False   \n",
       "1  786201435486781440    False   \n",
       "2  786189446274248704    False   \n",
       "3  786054986534969344    False   \n",
       "4  786007502639038464    False   \n",
       "\n",
       "                                                TEXT  \n",
       "0        PAY TO PLAY POLITICS. #CrookedHillary [URL]  \n",
       "1  Very little pick-up by the dishonest media of ...  \n",
       "2  Crooked Hillary Clinton likes to talk about th...  \n",
       "3  Thank you Florida- a MOVEMENT that has never b...  \n",
       "4  Join me Thursday in Florida &amp; Ohio!West Pa...  "
      ]
     },
     "execution_count": 3,
     "metadata": {},
     "output_type": "execute_result"
    }
   ],
   "source": [
    "data.head()"
   ]
  },
  {
   "cell_type": "code",
   "execution_count": 4,
   "metadata": {},
   "outputs": [
    {
     "data": {
      "text/plain": [
       "1513769"
      ]
     },
     "execution_count": 4,
     "metadata": {},
     "output_type": "execute_result"
    }
   ],
   "source": [
    "# Put all the tweets into one string.\n",
    "\n",
    "tweet_txt = data['TEXT'][:].str.cat(sep=' ')\n",
    "len(tweet_txt)"
   ]
  },
  {
   "cell_type": "code",
   "execution_count": 5,
   "metadata": {},
   "outputs": [
    {
     "name": "stdout",
     "output_type": "stream",
     "text": [
      "PAY TO PLAY POLITICS. #CrookedHillary [URL] Very little pick-up by the dishonest media of incredible information provided by WikiLeaks. So dishonest! \n"
     ]
    }
   ],
   "source": [
    "# Ok, let's check out one of these tweets.\n",
    "\n",
    "print(tweet_txt[:150])"
   ]
  },
  {
   "cell_type": "code",
   "execution_count": 6,
   "metadata": {},
   "outputs": [
    {
     "name": "stdout",
     "output_type": "stream",
     "text": [
      "Number of unique characters:  369\n"
     ]
    }
   ],
   "source": [
    "# Get all the unique characters used.\n",
    "\n",
    "chars = list(set(tweet_txt))\n",
    "chars.sort()\n",
    "print(\"Number of unique characters: \", len(chars))"
   ]
  },
  {
   "cell_type": "code",
   "execution_count": 7,
   "metadata": {},
   "outputs": [],
   "source": [
    "# Make a character mapping.\n",
    "\n",
    "char_to_index = dict((c, i) for i, c in enumerate(chars))\n",
    "index_to_char = dict((i, c) for i, c in enumerate(chars))"
   ]
  },
  {
   "cell_type": "code",
   "execution_count": null,
   "metadata": {},
   "outputs": [],
   "source": []
  },
  {
   "cell_type": "code",
   "execution_count": 8,
   "metadata": {},
   "outputs": [],
   "source": [
    "# We want to cut the data into overlapping sequences of characters.\n",
    "# Tweets have a max length of 150 but we want to understand how to write a \n",
    "# tweet so we should pick a length smaller that that. Let's choose a random number, \n",
    "# how about 30.\n",
    "\n",
    "# maxlen -> the maximum character length each input will be before we \n",
    "#           predict the next character.\n",
    "#\n",
    "# step -> The jump we make till we start our next group. For example\n",
    "#         If our list what [a, d, c, r, r, e, y, d, d ,s], with a maxlen\n",
    "#         of 3 and step of 2, then we would have lists, [a, d, c], [c, r, r]\n",
    "#         [r, r, e], and so on.\n",
    "#\n",
    "# sentences -> a list of the character strings of length maxlen\n",
    "#\n",
    "# next_char -> a list of the next characters to be predicted. i.e. after t  30 characters\n",
    "#              have been placed in the model, it should predict the 31st character.\n",
    "\n",
    "\n",
    "maxlen = 30\n",
    "step = 3\n",
    "sentences = []\n",
    "next_chars = []\n",
    "\n",
    "for i in range(0, len(tweet_txt) - maxlen, step):\n",
    "    sentences.append(tweet_txt[i:i + maxlen])\n",
    "    next_chars.append(tweet_txt[i + maxlen])"
   ]
  },
  {
   "cell_type": "code",
   "execution_count": 9,
   "metadata": {},
   "outputs": [],
   "source": [
    "# We want to make a 3-dimensional array that has the shape\n",
    "# (len(sentences), maxlen, len(chars)) a small example matrix might look like this:\n",
    "#\n",
    "#       shape (3, 4, 4)\n",
    "#\n",
    "#            / 0 1 0 0 /\n",
    "#           / 1 0 1 0 /\n",
    "#          / 0 0 0 1 /    Level 1.\n",
    "#         / 1 2 3 4 / \n",
    "\n",
    "#          -------------\n",
    "\n",
    "#            / 1 0 0 0 /\n",
    "#           / 0 0 1 0 /\n",
    "#          / 0 1 0 1 /    Level 2.\n",
    "#         / 1 2 3 4 /  \n",
    "\n",
    "#          -------------\n",
    "\n",
    "#            / 0 0 1 0 /\n",
    "#           / 1 0 0 1 /\n",
    "#          / 0 1 0 0 /    Level 3.\n",
    "#         / 1 2 3 4 / \n",
    "\n",
    "\n",
    "X = np.zeros((len(sentences), maxlen, len(chars)), dtype=np.bool)\n",
    "y = np.zeros((len(sentences), len(chars)), dtype=np.bool)\n",
    "\n",
    "for i, sentence in enumerate(sentences):\n",
    "    for t, char in enumerate(sentence):\n",
    "        X[i, t, char_to_index[char]] = 1\n",
    "    y[i, char_to_index[next_chars[i]]] = 1 "
   ]
  },
  {
   "cell_type": "code",
   "execution_count": 10,
   "metadata": {},
   "outputs": [
    {
     "name": "stdout",
     "output_type": "stream",
     "text": [
      "WARNING:tensorflow:From /usr/local/lib/python3.5/dist-packages/tensorflow/python/ops/resource_variable_ops.py:435: colocate_with (from tensorflow.python.framework.ops) is deprecated and will be removed in a future version.\n",
      "Instructions for updating:\n",
      "Colocations handled automatically by placer.\n",
      "WARNING:tensorflow:From /usr/local/lib/python3.5/dist-packages/tensorflow/python/keras/layers/core.py:143: calling dropout (from tensorflow.python.ops.nn_ops) with keep_prob is deprecated and will be removed in a future version.\n",
      "Instructions for updating:\n",
      "Please use `rate` instead of `keep_prob`. Rate should be set to `rate = 1 - keep_prob`.\n",
      "_________________________________________________________________\n",
      "Layer (type)                 Output Shape              Param #   \n",
      "=================================================================\n",
      "lstm (LSTM)                  (None, 30, 128)           254976    \n",
      "_________________________________________________________________\n",
      "dropout (Dropout)            (None, 30, 128)           0         \n",
      "_________________________________________________________________\n",
      "lstm_1 (LSTM)                (None, 128)               131584    \n",
      "_________________________________________________________________\n",
      "dropout_1 (Dropout)          (None, 128)               0         \n",
      "_________________________________________________________________\n",
      "dense (Dense)                (None, 369)               47601     \n",
      "=================================================================\n",
      "Total params: 434,161\n",
      "Trainable params: 434,161\n",
      "Non-trainable params: 0\n",
      "_________________________________________________________________\n",
      "\n",
      "---------------\n",
      "Data Dimensions\n",
      "---------------\n",
      "X:  (504580, 30, 369)\n",
      "y:  (504580, 369)\n"
     ]
    }
   ],
   "source": [
    "# # Here we define the model, and compile it.\n",
    "\n",
    "\"\"\" Here is the model\n",
    "\n",
    "        --------- LSTM ----------\n",
    "           |        |       |    \n",
    "          \\ /      \\ /     \\ / \n",
    "        --------- Dropuot -------\n",
    "           |        |       |    \n",
    "          \\ /      \\ /     \\ /\n",
    "        --------- LSTM ----------\n",
    "           |        |       |    \n",
    "          \\ /      \\ /     \\ / \n",
    "        --------- Dropout -------\n",
    "           |        |       |    \n",
    "          \\ /      \\ /     \\ /\n",
    "        --------- DENSE ----------\n",
    "\"\"\"\n",
    "        \n",
    "model=Sequential()\n",
    "\n",
    "shape = (maxlen, len(chars))\n",
    "model.add(LSTM(128, input_shape=shape, return_sequences=True))\n",
    "model.add(Dropout(0.1))\n",
    "model.add(LSTM(128, input_shape=shape))\n",
    "model.add(Dropout(0.1))\n",
    "model.add(Dense(len(chars), activation=\"softmax\"))\n",
    "\n",
    "optimizer = RMSprop(lr=0.01)\n",
    "model.compile(loss='categorical_crossentropy', optimizer=optimizer)\n",
    "model.summary()\n",
    "print()\n",
    "print(\"---------------\")\n",
    "print(\"Data Dimensions\")\n",
    "print(\"---------------\")\n",
    "print(\"X: \", X.shape)\n",
    "print(\"y: \", y.shape)"
   ]
  },
  {
   "cell_type": "code",
   "execution_count": 11,
   "metadata": {},
   "outputs": [],
   "source": [
    "def sample(preds, temperature=1.0):\n",
    "    # helper function to sample an index from a probability array\n",
    "    preds = np.asarray(preds).astype('float64')\n",
    "    preds = np.log(preds) / temperature\n",
    "    exp_preds = np.exp(preds)\n",
    "    preds = exp_preds / np.sum(exp_preds)\n",
    "    probas = np.random.multinomial(1, preds, 1)\n",
    "    return np.argmax(probas)"
   ]
  },
  {
   "cell_type": "code",
   "execution_count": 12,
   "metadata": {},
   "outputs": [],
   "source": [
    "# It should be mentioned that this code is not my own, it is used for testing purposes, and does not\n",
    "# reflect the groups code base.\n",
    "# Reference: https://github.com/keras-team/keras/blob/master/examples/lstm_text_generation.py\n",
    "\n",
    "\n",
    "def on_epoch_end(epoch, _):\n",
    "    # Function invoked at end of each epoch. Prints generated text.\n",
    "    f = open('twitter_epoch_test.log', 'w')\n",
    "#     print()\n",
    "#     print('----- Generating text after Epoch: %d' % epoch)\n",
    "    start_index = random.randint(0, len(tweet_txt) - maxlen - 1)\n",
    "    f.write('\\n')\n",
    "    f.write('----- Generating text after Epoch: %d\\n' % epoch)\n",
    "    for diversity in [0.2, 0.5, 1.0, 1.2]:\n",
    "        print()\n",
    "        print('---- Generating text to file: twitter_epoch_test.log ----')\n",
    "        print('---- with diversity: %f\\n' % diversity)\n",
    "        f.write('----- diversity: %f\\n' % diversity)\n",
    "\n",
    "\n",
    "        generated = ''\n",
    "        sentence = tweet_txt[start_index: start_index + maxlen]\n",
    "        generated += sentence\n",
    "#         print('----- Generating with seed: \"' + sentence + '\"')\n",
    "        f.write('----- Generating with seed: \"' + sentence + '\"\\n')\n",
    "        f.write(generated)\n",
    "\n",
    "        for i in range(400):\n",
    "            x_pred = np.zeros((1, maxlen, len(chars)))\n",
    "            for t, char in enumerate(sentence):\n",
    "                x_pred[0, t, char_to_index[char]] = 1.\n",
    "\n",
    "            preds = model.predict(x_pred, verbose=0)[0]\n",
    "            next_index = sample(preds, diversity)\n",
    "            next_char = index_to_char[next_index]\n",
    "\n",
    "            generated += next_char\n",
    "            sentence = sentence[1:] + next_char\n",
    "\n",
    "            f.write(next_char)\n",
    "            f.flush()\n",
    "#         print()\n",
    "        f.write('\\n\\n')\n",
    "    f.close()\n",
    "    "
   ]
  },
  {
   "cell_type": "code",
   "execution_count": null,
   "metadata": {},
   "outputs": [],
   "source": [
    "print_callback = LambdaCallback(on_epoch_end=on_epoch_end)\n",
    "\n",
    "model.fit(X, y, \n",
    "          batch_size=1000,\n",
    "          epochs=60,\n",
    "          callbacks=[print_callback]\n",
    "         )"
   ]
  },
  {
   "cell_type": "code",
   "execution_count": null,
   "metadata": {},
   "outputs": [],
   "source": [
    "# Now that we have our model trained, let's see how well it was able to predict.\n",
    "# Here I will give it a starting string of 30 characters long, randomly chosen from \n",
    "# the entirety of the tweet texts, and we will see what it outputs! This is exciting!!\n",
    "# We will start by producing one tweet, which is 150 characters long.\n",
    "\n",
    "\n",
    "start_index = random.randint(0, len(tweet_txt) - maxlen - 1)\n",
    "starter =  tweet_txt[start_index : start_index + 30]\n",
    "generated = starter\n",
    "\n",
    "# x_pred = np.zeros((1, maxlen, len(chars)), dtype=np.bool)\n",
    "# for t, char in enumerate(starter):\n",
    "#     x_pred[0, t, char_to_index[char]] = 1\n",
    "\n",
    "# y_hat = model.predict(x_pred)[0]\n",
    "\n",
    "# y_hat\n",
    "for i in range(0, 120):\n",
    "    x_pred = np.zeros((1, maxlen, len(chars)), dtype=np.bool)\n",
    "    for t, char in enumerate(starter):\n",
    "        x_pred[0, t, char_to_index[char]] = 1\n",
    "        \n",
    "    pred = model.predict(x_pred)[0]\n",
    "    next_index = sample(pred)\n",
    "    next_char = index_to_char[next_index]\n",
    "    \n",
    "    generated += next_char\n",
    "    starter = starter[1:] + next_char\n",
    "    \n",
    "print(generated)\n"
   ]
  },
  {
   "cell_type": "code",
   "execution_count": null,
   "metadata": {},
   "outputs": [],
   "source": [
    "# Here we save the model\n",
    "\n",
    "save.model('first_model.h5')"
   ]
  },
  {
   "cell_type": "code",
   "execution_count": null,
   "metadata": {},
   "outputs": [],
   "source": []
  },
  {
   "cell_type": "code",
   "execution_count": null,
   "metadata": {},
   "outputs": [],
   "source": []
  }
 ],
 "metadata": {
  "kernelspec": {
   "display_name": "Python 3",
   "language": "python",
   "name": "python3"
  },
  "language_info": {
   "codemirror_mode": {
    "name": "ipython",
    "version": 3
   },
   "file_extension": ".py",
   "mimetype": "text/x-python",
   "name": "python",
   "nbconvert_exporter": "python",
   "pygments_lexer": "ipython3",
   "version": "3.5.3"
  }
 },
 "nbformat": 4,
 "nbformat_minor": 2
}

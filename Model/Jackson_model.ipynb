{
 "cells": [
  {
   "cell_type": "markdown",
   "metadata": {},
   "source": [
    "** RNN to generate tweets, using character level generation. **"
   ]
  },
  {
   "cell_type": "code",
   "execution_count": 47,
   "metadata": {},
   "outputs": [],
   "source": [
    "import pandas as pd\n",
    "import numpy as np\n",
    "import random\n",
    "import matplotlib.pyplot as plt\n",
    "from tensorflow.keras.models import Sequential\n",
    "from tensorflow.keras.layers import Dense, LSTM, RNN, Softmax, Flatten, Dropout, Input"
   ]
  },
  {
   "cell_type": "code",
   "execution_count": 2,
   "metadata": {},
   "outputs": [],
   "source": [
    "data = pd.read_csv(\"../Load_Tweets/data/tweet_data.csv\") # this will break if this file is moved!"
   ]
  },
  {
   "cell_type": "code",
   "execution_count": 3,
   "metadata": {},
   "outputs": [
    {
     "data": {
      "text/html": [
       "<div>\n",
       "<style scoped>\n",
       "    .dataframe tbody tr th:only-of-type {\n",
       "        vertical-align: middle;\n",
       "    }\n",
       "\n",
       "    .dataframe tbody tr th {\n",
       "        vertical-align: top;\n",
       "    }\n",
       "\n",
       "    .dataframe thead th {\n",
       "        text-align: right;\n",
       "    }\n",
       "</style>\n",
       "<table border=\"1\" class=\"dataframe\">\n",
       "  <thead>\n",
       "    <tr style=\"text-align: right;\">\n",
       "      <th></th>\n",
       "      <th>ID</th>\n",
       "      <th>RETWEET</th>\n",
       "      <th>TEXT</th>\n",
       "    </tr>\n",
       "  </thead>\n",
       "  <tbody>\n",
       "    <tr>\n",
       "      <th>0</th>\n",
       "      <td>786204978629185536</td>\n",
       "      <td>False</td>\n",
       "      <td>PAY TO PLAY POLITICS. #CrookedHillary [URL]</td>\n",
       "    </tr>\n",
       "    <tr>\n",
       "      <th>1</th>\n",
       "      <td>786201435486781440</td>\n",
       "      <td>False</td>\n",
       "      <td>Very little pick-up by the dishonest media of ...</td>\n",
       "    </tr>\n",
       "    <tr>\n",
       "      <th>2</th>\n",
       "      <td>786189446274248704</td>\n",
       "      <td>False</td>\n",
       "      <td>Crooked Hillary Clinton likes to talk about th...</td>\n",
       "    </tr>\n",
       "    <tr>\n",
       "      <th>3</th>\n",
       "      <td>786054986534969344</td>\n",
       "      <td>False</td>\n",
       "      <td>Thank you Florida- a MOVEMENT that has never b...</td>\n",
       "    </tr>\n",
       "    <tr>\n",
       "      <th>4</th>\n",
       "      <td>786007502639038464</td>\n",
       "      <td>False</td>\n",
       "      <td>Join me Thursday in Florida &amp;amp; Ohio!West Pa...</td>\n",
       "    </tr>\n",
       "  </tbody>\n",
       "</table>\n",
       "</div>"
      ],
      "text/plain": [
       "                   ID  RETWEET  \\\n",
       "0  786204978629185536    False   \n",
       "1  786201435486781440    False   \n",
       "2  786189446274248704    False   \n",
       "3  786054986534969344    False   \n",
       "4  786007502639038464    False   \n",
       "\n",
       "                                                TEXT  \n",
       "0        PAY TO PLAY POLITICS. #CrookedHillary [URL]  \n",
       "1  Very little pick-up by the dishonest media of ...  \n",
       "2  Crooked Hillary Clinton likes to talk about th...  \n",
       "3  Thank you Florida- a MOVEMENT that has never b...  \n",
       "4  Join me Thursday in Florida &amp; Ohio!West Pa...  "
      ]
     },
     "execution_count": 3,
     "metadata": {},
     "output_type": "execute_result"
    }
   ],
   "source": [
    "data.head()"
   ]
  },
  {
   "cell_type": "code",
   "execution_count": 39,
   "metadata": {},
   "outputs": [
    {
     "data": {
      "text/plain": [
       "103764"
      ]
     },
     "execution_count": 39,
     "metadata": {},
     "output_type": "execute_result"
    }
   ],
   "source": [
    "# Put all the tweets into one string.\n",
    "\n",
    "tweet_txt = data['TEXT'][:1000].str.cat(sep=' ')\n",
    "len(tweet_txt)"
   ]
  },
  {
   "cell_type": "code",
   "execution_count": 40,
   "metadata": {},
   "outputs": [
    {
     "name": "stdout",
     "output_type": "stream",
     "text": [
      "PAY TO PLAY POLITICS. #CrookedHillary [URL] Very little pick-up by the dishonest media of incredible information provided by WikiLeaks. So dishonest! \n"
     ]
    }
   ],
   "source": [
    "# Ok, let's check out one of these tweets.\n",
    "\n",
    "print(tweet_txt[:150])"
   ]
  },
  {
   "cell_type": "code",
   "execution_count": 41,
   "metadata": {},
   "outputs": [
    {
     "name": "stdout",
     "output_type": "stream",
     "text": [
      "Number of unique characters:  106\n"
     ]
    }
   ],
   "source": [
    "# Get all the unique characters used.\n",
    "\n",
    "chars = list(set(tweet_txt))\n",
    "chars.sort()\n",
    "print(\"Number of unique characters: \", len(chars))"
   ]
  },
  {
   "cell_type": "code",
   "execution_count": 42,
   "metadata": {},
   "outputs": [],
   "source": [
    "# Make a character mapping.\n",
    "\n",
    "char_to_index = dict((c, i) for i, c in enumerate(chars))\n",
    "index_to_char = dict((i, c) for i, c in enumerate(chars))"
   ]
  },
  {
   "cell_type": "code",
   "execution_count": null,
   "metadata": {},
   "outputs": [],
   "source": []
  },
  {
   "cell_type": "code",
   "execution_count": 43,
   "metadata": {},
   "outputs": [],
   "source": [
    "# We want to cut the data into overlapping sequences of characters.\n",
    "# Tweets have a max length of 150 but we want to understand how to write a \n",
    "# tweet so we should pick a length smaller that that. Let's choose a random number, \n",
    "# how about 30.\n",
    "\n",
    "# maxlen -> the maximum character length each input will be before we \n",
    "#           predict the next character.\n",
    "#\n",
    "# step -> The jump we make till we start our next group. For example\n",
    "#         If our list what [a, d, c, r, r, e, y, d, d ,s], with a maxlen\n",
    "#         of 3 and step of 2, then we would have lists, [a, d, c], [c, r, r]\n",
    "#         [r, r, e], and so on.\n",
    "#\n",
    "# sentences -> a list of the character strings of length maxlen\n",
    "#\n",
    "# next_char -> a list of the next characters to be predicted. i.e. after t  30 characters\n",
    "#              have been placed in the model, it should predict the 31st character.\n",
    "\n",
    "\n",
    "maxlen = 30\n",
    "step = 3\n",
    "sentences = []\n",
    "next_chars = []\n",
    "\n",
    "for i in range(0, len(tweet_txt) - maxlen, step):\n",
    "    sentences.append(tweet_txt[i:i + maxlen])\n",
    "    next_chars.append(tweet_txt[i + maxlen])"
   ]
  },
  {
   "cell_type": "code",
   "execution_count": 44,
   "metadata": {},
   "outputs": [],
   "source": [
    "# We want to make a 3-dimensional array that has the shape\n",
    "# (len(sentences), maxlen, len(chars)) a small example matrix might look like this:\n",
    "#\n",
    "#       shape (3, 4, 4)\n",
    "#\n",
    "#            / 0 1 0 0 /\n",
    "#           / 1 0 1 0 /\n",
    "#          / 0 0 0 1 /    Level 1.\n",
    "#         / 1 2 3 4 / \n",
    "\n",
    "#          -------------\n",
    "\n",
    "#            / 1 0 0 0 /\n",
    "#           / 0 0 1 0 /\n",
    "#          / 0 1 0 1 /    Level 2.\n",
    "#         / 1 2 3 4 /  \n",
    "\n",
    "#          -------------\n",
    "\n",
    "#            / 0 0 1 0 /\n",
    "#           / 1 0 0 1 /\n",
    "#          / 0 1 0 0 /    Level 3.\n",
    "#         / 1 2 3 4 / \n",
    "\n",
    "\n",
    "X = np.zeros((len(sentences), maxlen, len(chars)), dtype=np.bool)\n",
    "y = np.zeros((len(sentences), len(chars)), dtype=np.bool)\n",
    "\n",
    "for i, sentence in enumerate(sentences):\n",
    "    for t, char in enumerate(sentence):\n",
    "        X[i, t, char_to_index[char]] = 1\n",
    "    y[i, char_to_index[next_chars[i]]] = 1 "
   ]
  },
  {
   "cell_type": "code",
   "execution_count": 45,
   "metadata": {},
   "outputs": [
    {
     "name": "stdout",
     "output_type": "stream",
     "text": [
      "_________________________________________________________________\n",
      "Layer (type)                 Output Shape              Param #   \n",
      "=================================================================\n",
      "lstm_4 (LSTM)                (None, 100)               82800     \n",
      "_________________________________________________________________\n",
      "dense_1 (Dense)              (None, 106)               10706     \n",
      "=================================================================\n",
      "Total params: 93,506\n",
      "Trainable params: 93,506\n",
      "Non-trainable params: 0\n",
      "_________________________________________________________________\n"
     ]
    }
   ],
   "source": [
    "# embedding_layer= Embedding(total_words, EMBEDDING_DIM, weights=[embedding_matrix],input_length=max_seq,trainable=False)\n",
    "# sequence_input = Input(shape=(max_seq,), dtype='int32')\n",
    "# embedded_sequences= embedding_layer(sequence_input)\n",
    "model=Sequential()\n",
    "# e=Embedding(total_words, EMBEDDING_DIM, weights=[embedding_matrix],input_length=maxlen,trainable=False)\n",
    "# model.add(e)\n",
    "shape = (maxlen, len(chars))\n",
    "model.add(LSTM(100, input_shape=shape))\n",
    "# model.add(Dropout(0.1))\n",
    "# model.add(Flatten())\n",
    "model.add(Dense(len(chars), activation=\"softmax\"))\n",
    "model.compile(loss='categorical_crossentropy', optimizer='adam')\n",
    "model.summary()"
   ]
  },
  {
   "cell_type": "code",
   "execution_count": 46,
   "metadata": {},
   "outputs": [
    {
     "name": "stdout",
     "output_type": "stream",
     "text": [
      "Epoch 1/10\n",
      "34578/34578 [==============================] - 18s 523us/sample - loss: 3.4580\n",
      "Epoch 2/10\n",
      "34578/34578 [==============================] - 18s 528us/sample - loss: 3.0616\n",
      "Epoch 3/10\n",
      "34578/34578 [==============================] - 19s 540us/sample - loss: 2.7796\n",
      "Epoch 4/10\n",
      "34578/34578 [==============================] - 19s 538us/sample - loss: 2.6408\n",
      "Epoch 5/10\n",
      "34578/34578 [==============================] - 18s 516us/sample - loss: 2.5434\n",
      "Epoch 6/10\n",
      "34578/34578 [==============================] - 18s 521us/sample - loss: 2.4635\n",
      "Epoch 7/10\n",
      "34578/34578 [==============================] - 17s 503us/sample - loss: 2.4013\n",
      "Epoch 8/10\n",
      "34578/34578 [==============================] - 17s 502us/sample - loss: 2.3445\n",
      "Epoch 9/10\n",
      "34578/34578 [==============================] - 17s 501us/sample - loss: 2.2941\n",
      "Epoch 10/10\n",
      "34578/34578 [==============================] - 20s 565us/sample - loss: 2.2487\n"
     ]
    },
    {
     "data": {
      "text/plain": [
       "<tensorflow.python.keras.callbacks.History at 0x182bbe0240>"
      ]
     },
     "execution_count": 46,
     "metadata": {},
     "output_type": "execute_result"
    }
   ],
   "source": [
    "model.fit(X, y, \n",
    "          batch_size=100,\n",
    "          epochs=10,\n",
    "         )"
   ]
  },
  {
   "cell_type": "code",
   "execution_count": 57,
   "metadata": {},
   "outputs": [],
   "source": [
    "def sample(preds, temperature=1.0):\n",
    "    # helper function to sample an index from a probability array\n",
    "    preds = np.asarray(preds).astype('float64')\n",
    "    preds = np.log(preds) / temperature\n",
    "    exp_preds = np.exp(preds)\n",
    "    preds = exp_preds / np.sum(exp_preds)\n",
    "    probas = np.random.multinomial(1, preds, 1)\n",
    "    return np.argmax(probas)"
   ]
  },
  {
   "cell_type": "code",
   "execution_count": 61,
   "metadata": {},
   "outputs": [
    {
     "name": "stdout",
     "output_type": "stream",
     "text": [
      "ortion Demagogue #VPdebate [URL] Than oo ls eanaly gerulirid:… Perhing sald nille! Merseenhetit to&as yhet mume. . Em Orersiunt - thel bet fhe poror g\n"
     ]
    }
   ],
   "source": [
    "# Now that we have our model trained, let's see how well it was able to predict.\n",
    "# Here I will give it a starting string of 30 characters long, randomly chosen from \n",
    "# the entirety of the tweet texts, and we will see what it outputs! This is exciting!!\n",
    "# We will start by producing one tweet, which is 150 characters long.\n",
    "\n",
    "\n",
    "start_index = random.randint(0, len(tweet_txt) - maxlen - 1)\n",
    "starter =  tweet_txt[start_index : start_index + 30]\n",
    "generated = starter\n",
    "\n",
    "# x_pred = np.zeros((1, maxlen, len(chars)), dtype=np.bool)\n",
    "# for t, char in enumerate(starter):\n",
    "#     x_pred[0, t, char_to_index[char]] = 1\n",
    "\n",
    "# y_hat = model.predict(x_pred)[0]\n",
    "\n",
    "# y_hat\n",
    "for i in range(0, 120):\n",
    "    x_pred = np.zeros((1, maxlen, len(chars)), dtype=np.bool)\n",
    "    for t, char in enumerate(starter):\n",
    "        x_pred[0, t, char_to_index[char]] = 1\n",
    "        \n",
    "    pred = model.predict(x_pred)[0]\n",
    "    next_index = sample(pred)\n",
    "    next_char = index_to_char[next_index]\n",
    "    \n",
    "    generated += next_char\n",
    "    starter = starter[1:] + next_char\n",
    "    \n",
    "print(generated)\n"
   ]
  },
  {
   "cell_type": "code",
   "execution_count": null,
   "metadata": {},
   "outputs": [],
   "source": []
  },
  {
   "cell_type": "code",
   "execution_count": null,
   "metadata": {},
   "outputs": [],
   "source": []
  },
  {
   "cell_type": "code",
   "execution_count": null,
   "metadata": {},
   "outputs": [],
   "source": []
  }
 ],
 "metadata": {
  "kernelspec": {
   "display_name": "Python 3",
   "language": "python",
   "name": "python3"
  },
  "language_info": {
   "codemirror_mode": {
    "name": "ipython",
    "version": 3
   },
   "file_extension": ".py",
   "mimetype": "text/x-python",
   "name": "python",
   "nbconvert_exporter": "python",
   "pygments_lexer": "ipython3",
   "version": "3.6.4"
  }
 },
 "nbformat": 4,
 "nbformat_minor": 2
}
